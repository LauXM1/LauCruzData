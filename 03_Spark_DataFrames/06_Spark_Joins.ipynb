{
 "cells": [
  {
   "cell_type": "markdown",
   "metadata": {},
   "source": [
    "# SPARK JOIN \n",
    "\n",
    "There are a multitude of joints available on Pyspark. The following kinds of joins are explianed in this article:\n",
    "\n",
    "* Inner Join\n",
    "* Outer Join\n",
    "* Left Join\n",
    "* Right Join\n",
    "* Left Semi Join\n",
    "* Left Anti Join\n",
    "* Cross Join \n",
    "\n",
    "Let's see how would work this on Spark!"
   ]
  },
  {
   "cell_type": "markdown",
   "metadata": {},
   "source": [
    "## Library Import"
   ]
  },
  {
   "cell_type": "code",
   "execution_count": 1,
   "metadata": {},
   "outputs": [],
   "source": [
    "from pyspark.sql import SparkSession"
   ]
  },
  {
   "cell_type": "markdown",
   "metadata": {},
   "source": [
    "### Spark Session"
   ]
  },
  {
   "cell_type": "code",
   "execution_count": 2,
   "metadata": {},
   "outputs": [],
   "source": [
    "spark = SparkSession.builder.appName('Spark_joins').getOrCreate()"
   ]
  },
  {
   "cell_type": "markdown",
   "metadata": {},
   "source": [
    "### Dataframe setup for the class"
   ]
  },
  {
   "cell_type": "code",
   "execution_count": 3,
   "metadata": {},
   "outputs": [],
   "source": [
    "# Heroes Data\n",
    "\n",
    "heroes_data = [\n",
    "    ('Deadpool', 3),\n",
    "    ('Iron Man', 1),\n",
    "    ('Groot', 7),\n",
    "]\n",
    "\n",
    "# Race Data\n",
    "\n",
    "race_data = [\n",
    "    ('Kryptonian', 5),\n",
    "    ('Mutant', 3),\n",
    "    ('Human', 1),\n",
    "]"
   ]
  },
  {
   "cell_type": "code",
   "execution_count": 4,
   "metadata": {},
   "outputs": [],
   "source": [
    "# Setting up our Dataframes\n",
    "\n",
    "heroes = spark.createDataFrame(heroes_data, ['name', 'id'])\n",
    "races = spark.createDataFrame(race_data, ['race', 'id'])"
   ]
  },
  {
   "cell_type": "markdown",
   "metadata": {},
   "source": [
    "### Start the Fun! Let's do some joins!"
   ]
  },
  {
   "cell_type": "markdown",
   "metadata": {},
   "source": [
    "#### INNER JOIN"
   ]
  },
  {
   "cell_type": "code",
   "execution_count": 5,
   "metadata": {},
   "outputs": [
    {
     "name": "stdout",
     "output_type": "stream",
     "text": [
      "+--------+---+\n",
      "|    name| id|\n",
      "+--------+---+\n",
      "|Deadpool|  3|\n",
      "|Iron Man|  1|\n",
      "|   Groot|  7|\n",
      "+--------+---+\n",
      "\n"
     ]
    }
   ],
   "source": [
    "heroes.show()"
   ]
  },
  {
   "cell_type": "code",
   "execution_count": 7,
   "metadata": {},
   "outputs": [
    {
     "name": "stdout",
     "output_type": "stream",
     "text": [
      "+----------+---+\n",
      "|      race| id|\n",
      "+----------+---+\n",
      "|Kryptonian|  5|\n",
      "|    Mutant|  3|\n",
      "|     Human|  1|\n",
      "+----------+---+\n",
      "\n"
     ]
    }
   ],
   "source": [
    "races.show()"
   ]
  },
  {
   "cell_type": "code",
   "execution_count": 9,
   "metadata": {},
   "outputs": [
    {
     "name": "stdout",
     "output_type": "stream",
     "text": [
      "+---+--------+------+\n",
      "| id|    name|  race|\n",
      "+---+--------+------+\n",
      "|  1|Iron Man| Human|\n",
      "|  3|Deadpool|Mutant|\n",
      "+---+--------+------+\n",
      "\n"
     ]
    }
   ],
   "source": [
    "# Inner Join Syntax \n",
    "# df1.join(df2, on = ['field'], how = 'inner')\n",
    "heroes.join(races, on = ['id'], how = 'inner').show()"
   ]
  },
  {
   "cell_type": "markdown",
   "metadata": {},
   "source": [
    "#### LEFT JOIN"
   ]
  },
  {
   "cell_type": "code",
   "execution_count": 10,
   "metadata": {},
   "outputs": [
    {
     "name": "stdout",
     "output_type": "stream",
     "text": [
      "+--------+---+\n",
      "|    name| id|\n",
      "+--------+---+\n",
      "|Deadpool|  3|\n",
      "|Iron Man|  1|\n",
      "|   Groot|  7|\n",
      "+--------+---+\n",
      "\n"
     ]
    }
   ],
   "source": [
    "heroes.show()"
   ]
  },
  {
   "cell_type": "code",
   "execution_count": 11,
   "metadata": {},
   "outputs": [
    {
     "name": "stdout",
     "output_type": "stream",
     "text": [
      "+----------+---+\n",
      "|      race| id|\n",
      "+----------+---+\n",
      "|Kryptonian|  5|\n",
      "|    Mutant|  3|\n",
      "|     Human|  1|\n",
      "+----------+---+\n",
      "\n"
     ]
    }
   ],
   "source": [
    "races.show()"
   ]
  },
  {
   "cell_type": "code",
   "execution_count": 12,
   "metadata": {},
   "outputs": [
    {
     "name": "stdout",
     "output_type": "stream",
     "text": [
      "+---+--------+------+\n",
      "| id|    name|  race|\n",
      "+---+--------+------+\n",
      "|  7|   Groot|  null|\n",
      "|  1|Iron Man| Human|\n",
      "|  3|Deadpool|Mutant|\n",
      "+---+--------+------+\n",
      "\n"
     ]
    }
   ],
   "source": [
    "# Left Join Syntax\n",
    "# df1.join(df2, on = ['field'], how = 'left')\n",
    "heroes.join(races, on = ['id'], how ='left').show()"
   ]
  },
  {
   "cell_type": "markdown",
   "metadata": {},
   "source": [
    "#### RIGHT JOIN"
   ]
  },
  {
   "cell_type": "code",
   "execution_count": 13,
   "metadata": {},
   "outputs": [
    {
     "name": "stdout",
     "output_type": "stream",
     "text": [
      "+--------+---+\n",
      "|    name| id|\n",
      "+--------+---+\n",
      "|Deadpool|  3|\n",
      "|Iron Man|  1|\n",
      "|   Groot|  7|\n",
      "+--------+---+\n",
      "\n"
     ]
    }
   ],
   "source": [
    "heroes.show()"
   ]
  },
  {
   "cell_type": "code",
   "execution_count": 14,
   "metadata": {},
   "outputs": [
    {
     "name": "stdout",
     "output_type": "stream",
     "text": [
      "+----------+---+\n",
      "|      race| id|\n",
      "+----------+---+\n",
      "|Kryptonian|  5|\n",
      "|    Mutant|  3|\n",
      "|     Human|  1|\n",
      "+----------+---+\n",
      "\n"
     ]
    }
   ],
   "source": [
    "races.show()"
   ]
  },
  {
   "cell_type": "code",
   "execution_count": 15,
   "metadata": {},
   "outputs": [
    {
     "name": "stdout",
     "output_type": "stream",
     "text": [
      "+---+--------+----------+\n",
      "| id|    name|      race|\n",
      "+---+--------+----------+\n",
      "|  5|    null|Kryptonian|\n",
      "|  1|Iron Man|     Human|\n",
      "|  3|Deadpool|    Mutant|\n",
      "+---+--------+----------+\n",
      "\n"
     ]
    }
   ],
   "source": [
    "# Right Join Syntax\n",
    "# df1.join(df2, on = ['field'], how = 'right')\n",
    "heroes.join(races, on = ['id'], how ='right').show()"
   ]
  },
  {
   "cell_type": "markdown",
   "metadata": {},
   "source": [
    "#### FULL OUTER JOIN"
   ]
  },
  {
   "cell_type": "code",
   "execution_count": 16,
   "metadata": {},
   "outputs": [
    {
     "name": "stdout",
     "output_type": "stream",
     "text": [
      "+--------+---+\n",
      "|    name| id|\n",
      "+--------+---+\n",
      "|Deadpool|  3|\n",
      "|Iron Man|  1|\n",
      "|   Groot|  7|\n",
      "+--------+---+\n",
      "\n"
     ]
    }
   ],
   "source": [
    "heroes.show()"
   ]
  },
  {
   "cell_type": "code",
   "execution_count": 17,
   "metadata": {},
   "outputs": [
    {
     "name": "stdout",
     "output_type": "stream",
     "text": [
      "+----------+---+\n",
      "|      race| id|\n",
      "+----------+---+\n",
      "|Kryptonian|  5|\n",
      "|    Mutant|  3|\n",
      "|     Human|  1|\n",
      "+----------+---+\n",
      "\n"
     ]
    }
   ],
   "source": [
    "races.show()"
   ]
  },
  {
   "cell_type": "code",
   "execution_count": 18,
   "metadata": {},
   "outputs": [
    {
     "name": "stdout",
     "output_type": "stream",
     "text": [
      "+---+--------+----------+\n",
      "| id|    name|      race|\n",
      "+---+--------+----------+\n",
      "|  7|   Groot|      null|\n",
      "|  5|    null|Kryptonian|\n",
      "|  1|Iron Man|     Human|\n",
      "|  3|Deadpool|    Mutant|\n",
      "+---+--------+----------+\n",
      "\n"
     ]
    }
   ],
   "source": [
    "# Full Outer Join Syntax\n",
    "# df1.join(df2, on = ['field'], how = 'outer' / how = 'full')\n",
    "heroes.join(races, on = ['id'], how ='outer').show()"
   ]
  },
  {
   "cell_type": "markdown",
   "metadata": {},
   "source": [
    "#### LEFT SEMI-JOIN\n",
    "Only the data that has a match from the left on the right table is going to be displayed"
   ]
  },
  {
   "cell_type": "code",
   "execution_count": 22,
   "metadata": {},
   "outputs": [
    {
     "name": "stdout",
     "output_type": "stream",
     "text": [
      "+--------+---+\n",
      "|    name| id|\n",
      "+--------+---+\n",
      "|Deadpool|  3|\n",
      "|Iron Man|  1|\n",
      "|   Groot|  7|\n",
      "+--------+---+\n",
      "\n"
     ]
    }
   ],
   "source": [
    "heroes.show()"
   ]
  },
  {
   "cell_type": "code",
   "execution_count": 20,
   "metadata": {},
   "outputs": [
    {
     "name": "stdout",
     "output_type": "stream",
     "text": [
      "+----------+---+\n",
      "|      race| id|\n",
      "+----------+---+\n",
      "|Kryptonian|  5|\n",
      "|    Mutant|  3|\n",
      "|     Human|  1|\n",
      "+----------+---+\n",
      "\n"
     ]
    }
   ],
   "source": [
    "races.show()"
   ]
  },
  {
   "cell_type": "code",
   "execution_count": 21,
   "metadata": {},
   "outputs": [
    {
     "name": "stdout",
     "output_type": "stream",
     "text": [
      "+---+--------+\n",
      "| id|    name|\n",
      "+---+--------+\n",
      "|  1|Iron Man|\n",
      "|  3|Deadpool|\n",
      "+---+--------+\n",
      "\n"
     ]
    }
   ],
   "source": [
    "# Left Semi Join Syntax\n",
    "# df1.join(df2, on = ['field'], how = 'leftsemi')\n",
    "heroes.join(races, on = ['id'], how ='leftsemi').show()"
   ]
  },
  {
   "cell_type": "markdown",
   "metadata": {},
   "source": [
    "#### LEFT ANTI JOIN\n",
    "Just returns the data that does not match in the right table. Result will only include the data in the left"
   ]
  },
  {
   "cell_type": "code",
   "execution_count": 23,
   "metadata": {},
   "outputs": [
    {
     "name": "stdout",
     "output_type": "stream",
     "text": [
      "+--------+---+\n",
      "|    name| id|\n",
      "+--------+---+\n",
      "|Deadpool|  3|\n",
      "|Iron Man|  1|\n",
      "|   Groot|  7|\n",
      "+--------+---+\n",
      "\n"
     ]
    }
   ],
   "source": [
    "heroes.show()"
   ]
  },
  {
   "cell_type": "code",
   "execution_count": 24,
   "metadata": {},
   "outputs": [
    {
     "name": "stdout",
     "output_type": "stream",
     "text": [
      "+----------+---+\n",
      "|      race| id|\n",
      "+----------+---+\n",
      "|Kryptonian|  5|\n",
      "|    Mutant|  3|\n",
      "|     Human|  1|\n",
      "+----------+---+\n",
      "\n"
     ]
    }
   ],
   "source": [
    "races.show()"
   ]
  },
  {
   "cell_type": "code",
   "execution_count": 25,
   "metadata": {},
   "outputs": [
    {
     "name": "stdout",
     "output_type": "stream",
     "text": [
      "+---+-----+\n",
      "| id| name|\n",
      "+---+-----+\n",
      "|  7|Groot|\n",
      "+---+-----+\n",
      "\n"
     ]
    }
   ],
   "source": [
    "# Left Anti Join Syntax\n",
    "# df1.join(df2, on = ['field'], how = 'leftanti')\n",
    "heroes.join(races, on = ['id'], how ='leftanti').show()"
   ]
  },
  {
   "cell_type": "markdown",
   "metadata": {},
   "source": [
    "#### CROSS JOIN\n",
    "Just combines each row of the table 1 with each row of table 2. So if we have 1,000 customers and we have 1,000 products we'll produce **1,000 x 1,000 = 1M**\n",
    "\n",
    "So, be careful with this one, is not a good option to try it on the unlimited way"
   ]
  },
  {
   "cell_type": "code",
   "execution_count": 26,
   "metadata": {},
   "outputs": [
    {
     "name": "stdout",
     "output_type": "stream",
     "text": [
      "+--------+---+\n",
      "|    name| id|\n",
      "+--------+---+\n",
      "|Deadpool|  3|\n",
      "|Iron Man|  1|\n",
      "|   Groot|  7|\n",
      "+--------+---+\n",
      "\n"
     ]
    }
   ],
   "source": [
    "heroes.show()"
   ]
  },
  {
   "cell_type": "code",
   "execution_count": 27,
   "metadata": {},
   "outputs": [
    {
     "name": "stdout",
     "output_type": "stream",
     "text": [
      "+----------+---+\n",
      "|      race| id|\n",
      "+----------+---+\n",
      "|Kryptonian|  5|\n",
      "|    Mutant|  3|\n",
      "|     Human|  1|\n",
      "+----------+---+\n",
      "\n"
     ]
    }
   ],
   "source": [
    "races.show()"
   ]
  },
  {
   "cell_type": "code",
   "execution_count": 28,
   "metadata": {},
   "outputs": [
    {
     "name": "stdout",
     "output_type": "stream",
     "text": [
      "+--------+---+----------+---+\n",
      "|    name| id|      race| id|\n",
      "+--------+---+----------+---+\n",
      "|Deadpool|  3|Kryptonian|  5|\n",
      "|Deadpool|  3|    Mutant|  3|\n",
      "|Deadpool|  3|     Human|  1|\n",
      "|Iron Man|  1|Kryptonian|  5|\n",
      "|Iron Man|  1|    Mutant|  3|\n",
      "|Iron Man|  1|     Human|  1|\n",
      "|   Groot|  7|Kryptonian|  5|\n",
      "|   Groot|  7|    Mutant|  3|\n",
      "|   Groot|  7|     Human|  1|\n",
      "+--------+---+----------+---+\n",
      "\n"
     ]
    }
   ],
   "source": [
    "# CROSS Join Syntax\n",
    "# df1.crossJoin(df2)\n",
    "heroes.crossJoin(races).show()"
   ]
  },
  {
   "cell_type": "code",
   "execution_count": null,
   "metadata": {},
   "outputs": [],
   "source": []
  },
  {
   "cell_type": "code",
   "execution_count": null,
   "metadata": {},
   "outputs": [],
   "source": []
  },
  {
   "cell_type": "code",
   "execution_count": null,
   "metadata": {},
   "outputs": [],
   "source": []
  },
  {
   "cell_type": "code",
   "execution_count": null,
   "metadata": {},
   "outputs": [],
   "source": []
  },
  {
   "cell_type": "code",
   "execution_count": null,
   "metadata": {},
   "outputs": [],
   "source": []
  },
  {
   "cell_type": "code",
   "execution_count": null,
   "metadata": {},
   "outputs": [],
   "source": []
  },
  {
   "cell_type": "code",
   "execution_count": null,
   "metadata": {},
   "outputs": [],
   "source": []
  },
  {
   "cell_type": "code",
   "execution_count": null,
   "metadata": {},
   "outputs": [],
   "source": []
  },
  {
   "cell_type": "code",
   "execution_count": null,
   "metadata": {},
   "outputs": [],
   "source": []
  }
 ],
 "metadata": {
  "kernelspec": {
   "display_name": "Python 3",
   "language": "python",
   "name": "python3"
  },
  "language_info": {
   "codemirror_mode": {
    "name": "ipython",
    "version": 3
   },
   "file_extension": ".py",
   "mimetype": "text/x-python",
   "name": "python",
   "nbconvert_exporter": "python",
   "pygments_lexer": "ipython3",
   "version": "3.7.7"
  }
 },
 "nbformat": 4,
 "nbformat_minor": 4
}
