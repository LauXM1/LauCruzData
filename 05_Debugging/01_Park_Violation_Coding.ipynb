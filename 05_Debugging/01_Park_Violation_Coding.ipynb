{
 "cells": [
  {
   "cell_type": "markdown",
   "metadata": {},
   "source": [
    "# Spark Data Analysis"
   ]
  },
  {
   "cell_type": "markdown",
   "metadata": {},
   "source": [
    "## Library Import"
   ]
  },
  {
   "cell_type": "code",
   "execution_count": 1,
   "metadata": {},
   "outputs": [],
   "source": [
    "from pyspark.sql import SparkSession\n",
    "import pandas as pd"
   ]
  },
  {
   "cell_type": "markdown",
   "metadata": {},
   "source": [
    "## Spark Session Creation"
   ]
  },
  {
   "cell_type": "code",
   "execution_count": 2,
   "metadata": {},
   "outputs": [],
   "source": [
    "spark = SparkSession.builder.appName('parking_violation').getOrCreate()"
   ]
  },
  {
   "cell_type": "code",
   "execution_count": 3,
   "metadata": {},
   "outputs": [
    {
     "data": {
      "text/html": [
       "\n",
       "            <div>\n",
       "                <p><b>SparkSession - in-memory</b></p>\n",
       "                \n",
       "        <div>\n",
       "            <p><b>SparkContext</b></p>\n",
       "\n",
       "            <p><a href=\"http://JESPINOSA640G4:4040\">Spark UI</a></p>\n",
       "\n",
       "            <dl>\n",
       "              <dt>Version</dt>\n",
       "                <dd><code>v2.4.6</code></dd>\n",
       "              <dt>Master</dt>\n",
       "                <dd><code>local[*]</code></dd>\n",
       "              <dt>AppName</dt>\n",
       "                <dd><code>parking_violation</code></dd>\n",
       "            </dl>\n",
       "        </div>\n",
       "        \n",
       "            </div>\n",
       "        "
      ],
      "text/plain": [
       "<pyspark.sql.session.SparkSession at 0x2523f3fb7c8>"
      ]
     },
     "execution_count": 3,
     "metadata": {},
     "output_type": "execute_result"
    }
   ],
   "source": [
    "# Checkout the Spark Details, and also getting the Spark UI url for our local installation\n",
    "spark"
   ]
  },
  {
   "cell_type": "code",
   "execution_count": 4,
   "metadata": {},
   "outputs": [],
   "source": [
    "df_pv = spark.read.csv('../datasets/parking_violation/parking_violation.csv', inferSchema = True, header = True)"
   ]
  },
  {
   "cell_type": "code",
   "execution_count": 5,
   "metadata": {},
   "outputs": [
    {
     "data": {
      "text/html": [
       "<div>\n",
       "<style scoped>\n",
       "    .dataframe tbody tr th:only-of-type {\n",
       "        vertical-align: middle;\n",
       "    }\n",
       "\n",
       "    .dataframe tbody tr th {\n",
       "        vertical-align: top;\n",
       "    }\n",
       "\n",
       "    .dataframe thead th {\n",
       "        text-align: right;\n",
       "    }\n",
       "</style>\n",
       "<table border=\"1\" class=\"dataframe\">\n",
       "  <thead>\n",
       "    <tr style=\"text-align: right;\">\n",
       "      <th></th>\n",
       "      <th>_c0</th>\n",
       "      <th>Summons_Number</th>\n",
       "      <th>Plate_ID</th>\n",
       "      <th>Registration_State</th>\n",
       "      <th>Plate_Type</th>\n",
       "      <th>Issue_Date</th>\n",
       "      <th>Violation_Code</th>\n",
       "      <th>Vehicle_Body_Type</th>\n",
       "      <th>Vehicle_Make</th>\n",
       "      <th>Issuing_Agency</th>\n",
       "      <th>...</th>\n",
       "      <th>Latitude</th>\n",
       "      <th>Longitude</th>\n",
       "      <th>Community_Board</th>\n",
       "      <th>Community_Council_</th>\n",
       "      <th>Census_Tract</th>\n",
       "      <th>BIN</th>\n",
       "      <th>BBL</th>\n",
       "      <th>NTA</th>\n",
       "      <th>year</th>\n",
       "      <th>month</th>\n",
       "    </tr>\n",
       "  </thead>\n",
       "  <tbody>\n",
       "    <tr>\n",
       "      <th>0</th>\n",
       "      <td>0</td>\n",
       "      <td>8002531292</td>\n",
       "      <td>EPC5238</td>\n",
       "      <td>NY</td>\n",
       "      <td>PAS</td>\n",
       "      <td>10/01/2014</td>\n",
       "      <td>21</td>\n",
       "      <td>SUBN</td>\n",
       "      <td>CHEVR</td>\n",
       "      <td>T</td>\n",
       "      <td>...</td>\n",
       "      <td>None</td>\n",
       "      <td>None</td>\n",
       "      <td>None</td>\n",
       "      <td>None</td>\n",
       "      <td>None</td>\n",
       "      <td>None</td>\n",
       "      <td>None</td>\n",
       "      <td>None</td>\n",
       "      <td>2014</td>\n",
       "      <td>10</td>\n",
       "    </tr>\n",
       "    <tr>\n",
       "      <th>1</th>\n",
       "      <td>1</td>\n",
       "      <td>8015318440</td>\n",
       "      <td>5298MD</td>\n",
       "      <td>NY</td>\n",
       "      <td>COM</td>\n",
       "      <td>03/06/2015</td>\n",
       "      <td>14</td>\n",
       "      <td>VAN</td>\n",
       "      <td>FRUEH</td>\n",
       "      <td>T</td>\n",
       "      <td>...</td>\n",
       "      <td>None</td>\n",
       "      <td>None</td>\n",
       "      <td>None</td>\n",
       "      <td>None</td>\n",
       "      <td>None</td>\n",
       "      <td>None</td>\n",
       "      <td>None</td>\n",
       "      <td>None</td>\n",
       "      <td>2015</td>\n",
       "      <td>3</td>\n",
       "    </tr>\n",
       "    <tr>\n",
       "      <th>2</th>\n",
       "      <td>2</td>\n",
       "      <td>7611181981</td>\n",
       "      <td>FYW2775</td>\n",
       "      <td>NY</td>\n",
       "      <td>PAS</td>\n",
       "      <td>07/28/2014</td>\n",
       "      <td>46</td>\n",
       "      <td>SUBN</td>\n",
       "      <td>SUBAR</td>\n",
       "      <td>T</td>\n",
       "      <td>...</td>\n",
       "      <td>None</td>\n",
       "      <td>None</td>\n",
       "      <td>None</td>\n",
       "      <td>None</td>\n",
       "      <td>None</td>\n",
       "      <td>None</td>\n",
       "      <td>None</td>\n",
       "      <td>None</td>\n",
       "      <td>2014</td>\n",
       "      <td>7</td>\n",
       "    </tr>\n",
       "    <tr>\n",
       "      <th>3</th>\n",
       "      <td>3</td>\n",
       "      <td>7445908067</td>\n",
       "      <td>GWE1987</td>\n",
       "      <td>NY</td>\n",
       "      <td>PAS</td>\n",
       "      <td>04/13/2015</td>\n",
       "      <td>19</td>\n",
       "      <td>4DSD</td>\n",
       "      <td>LEXUS</td>\n",
       "      <td>T</td>\n",
       "      <td>...</td>\n",
       "      <td>None</td>\n",
       "      <td>None</td>\n",
       "      <td>None</td>\n",
       "      <td>None</td>\n",
       "      <td>None</td>\n",
       "      <td>None</td>\n",
       "      <td>None</td>\n",
       "      <td>None</td>\n",
       "      <td>2015</td>\n",
       "      <td>4</td>\n",
       "    </tr>\n",
       "    <tr>\n",
       "      <th>4</th>\n",
       "      <td>4</td>\n",
       "      <td>7037692864</td>\n",
       "      <td>T671196C</td>\n",
       "      <td>NY</td>\n",
       "      <td>PAS</td>\n",
       "      <td>05/19/2015</td>\n",
       "      <td>19</td>\n",
       "      <td>4DSD</td>\n",
       "      <td>CHRYS</td>\n",
       "      <td>T</td>\n",
       "      <td>...</td>\n",
       "      <td>None</td>\n",
       "      <td>None</td>\n",
       "      <td>None</td>\n",
       "      <td>None</td>\n",
       "      <td>None</td>\n",
       "      <td>None</td>\n",
       "      <td>None</td>\n",
       "      <td>None</td>\n",
       "      <td>2015</td>\n",
       "      <td>5</td>\n",
       "    </tr>\n",
       "    <tr>\n",
       "      <th>5</th>\n",
       "      <td>5</td>\n",
       "      <td>7704791394</td>\n",
       "      <td>JJF6834</td>\n",
       "      <td>PA</td>\n",
       "      <td>PAS</td>\n",
       "      <td>11/20/2014</td>\n",
       "      <td>21</td>\n",
       "      <td>4DSD</td>\n",
       "      <td>NISSA</td>\n",
       "      <td>T</td>\n",
       "      <td>...</td>\n",
       "      <td>None</td>\n",
       "      <td>None</td>\n",
       "      <td>None</td>\n",
       "      <td>None</td>\n",
       "      <td>None</td>\n",
       "      <td>None</td>\n",
       "      <td>None</td>\n",
       "      <td>None</td>\n",
       "      <td>2014</td>\n",
       "      <td>11</td>\n",
       "    </tr>\n",
       "    <tr>\n",
       "      <th>6</th>\n",
       "      <td>6</td>\n",
       "      <td>7541599104</td>\n",
       "      <td>FYP8263</td>\n",
       "      <td>NY</td>\n",
       "      <td>PAS</td>\n",
       "      <td>08/01/2014</td>\n",
       "      <td>21</td>\n",
       "      <td>SUBN</td>\n",
       "      <td>HONDA</td>\n",
       "      <td>T</td>\n",
       "      <td>...</td>\n",
       "      <td>None</td>\n",
       "      <td>None</td>\n",
       "      <td>None</td>\n",
       "      <td>None</td>\n",
       "      <td>None</td>\n",
       "      <td>None</td>\n",
       "      <td>None</td>\n",
       "      <td>None</td>\n",
       "      <td>2014</td>\n",
       "      <td>8</td>\n",
       "    </tr>\n",
       "    <tr>\n",
       "      <th>7</th>\n",
       "      <td>7</td>\n",
       "      <td>7443513951</td>\n",
       "      <td>FZL7450</td>\n",
       "      <td>NY</td>\n",
       "      <td>PAS</td>\n",
       "      <td>07/19/2014</td>\n",
       "      <td>71</td>\n",
       "      <td>4DSD</td>\n",
       "      <td>VOLVO</td>\n",
       "      <td>T</td>\n",
       "      <td>...</td>\n",
       "      <td>None</td>\n",
       "      <td>None</td>\n",
       "      <td>None</td>\n",
       "      <td>None</td>\n",
       "      <td>None</td>\n",
       "      <td>None</td>\n",
       "      <td>None</td>\n",
       "      <td>None</td>\n",
       "      <td>2014</td>\n",
       "      <td>7</td>\n",
       "    </tr>\n",
       "    <tr>\n",
       "      <th>8</th>\n",
       "      <td>8</td>\n",
       "      <td>7426321423</td>\n",
       "      <td>86318MA</td>\n",
       "      <td>NY</td>\n",
       "      <td>COM</td>\n",
       "      <td>09/23/2014</td>\n",
       "      <td>69</td>\n",
       "      <td>VAN</td>\n",
       "      <td>CHEVR</td>\n",
       "      <td>T</td>\n",
       "      <td>...</td>\n",
       "      <td>None</td>\n",
       "      <td>None</td>\n",
       "      <td>None</td>\n",
       "      <td>None</td>\n",
       "      <td>None</td>\n",
       "      <td>None</td>\n",
       "      <td>None</td>\n",
       "      <td>None</td>\n",
       "      <td>2014</td>\n",
       "      <td>9</td>\n",
       "    </tr>\n",
       "    <tr>\n",
       "      <th>9</th>\n",
       "      <td>9</td>\n",
       "      <td>8017159560</td>\n",
       "      <td>GKX8095</td>\n",
       "      <td>NY</td>\n",
       "      <td>PAS</td>\n",
       "      <td>01/20/2015</td>\n",
       "      <td>71</td>\n",
       "      <td>4DSD</td>\n",
       "      <td>LEXUS</td>\n",
       "      <td>T</td>\n",
       "      <td>...</td>\n",
       "      <td>None</td>\n",
       "      <td>None</td>\n",
       "      <td>None</td>\n",
       "      <td>None</td>\n",
       "      <td>None</td>\n",
       "      <td>None</td>\n",
       "      <td>None</td>\n",
       "      <td>None</td>\n",
       "      <td>2015</td>\n",
       "      <td>1</td>\n",
       "    </tr>\n",
       "  </tbody>\n",
       "</table>\n",
       "<p>10 rows × 54 columns</p>\n",
       "</div>"
      ],
      "text/plain": [
       "   _c0  Summons_Number  Plate_ID Registration_State Plate_Type  Issue_Date  \\\n",
       "0    0      8002531292   EPC5238                 NY        PAS  10/01/2014   \n",
       "1    1      8015318440    5298MD                 NY        COM  03/06/2015   \n",
       "2    2      7611181981   FYW2775                 NY        PAS  07/28/2014   \n",
       "3    3      7445908067   GWE1987                 NY        PAS  04/13/2015   \n",
       "4    4      7037692864  T671196C                 NY        PAS  05/19/2015   \n",
       "5    5      7704791394   JJF6834                 PA        PAS  11/20/2014   \n",
       "6    6      7541599104   FYP8263                 NY        PAS  08/01/2014   \n",
       "7    7      7443513951   FZL7450                 NY        PAS  07/19/2014   \n",
       "8    8      7426321423   86318MA                 NY        COM  09/23/2014   \n",
       "9    9      8017159560   GKX8095                 NY        PAS  01/20/2015   \n",
       "\n",
       "   Violation_Code Vehicle_Body_Type Vehicle_Make Issuing_Agency  ...  \\\n",
       "0              21              SUBN        CHEVR              T  ...   \n",
       "1              14               VAN        FRUEH              T  ...   \n",
       "2              46              SUBN        SUBAR              T  ...   \n",
       "3              19              4DSD        LEXUS              T  ...   \n",
       "4              19              4DSD        CHRYS              T  ...   \n",
       "5              21              4DSD        NISSA              T  ...   \n",
       "6              21              SUBN        HONDA              T  ...   \n",
       "7              71              4DSD        VOLVO              T  ...   \n",
       "8              69               VAN        CHEVR              T  ...   \n",
       "9              71              4DSD        LEXUS              T  ...   \n",
       "\n",
       "   Latitude  Longitude  Community_Board Community_Council_  Census_Tract  \\\n",
       "0      None       None             None               None          None   \n",
       "1      None       None             None               None          None   \n",
       "2      None       None             None               None          None   \n",
       "3      None       None             None               None          None   \n",
       "4      None       None             None               None          None   \n",
       "5      None       None             None               None          None   \n",
       "6      None       None             None               None          None   \n",
       "7      None       None             None               None          None   \n",
       "8      None       None             None               None          None   \n",
       "9      None       None             None               None          None   \n",
       "\n",
       "    BIN   BBL   NTA  year month  \n",
       "0  None  None  None  2014    10  \n",
       "1  None  None  None  2015     3  \n",
       "2  None  None  None  2014     7  \n",
       "3  None  None  None  2015     4  \n",
       "4  None  None  None  2015     5  \n",
       "5  None  None  None  2014    11  \n",
       "6  None  None  None  2014     8  \n",
       "7  None  None  None  2014     7  \n",
       "8  None  None  None  2014     9  \n",
       "9  None  None  None  2015     1  \n",
       "\n",
       "[10 rows x 54 columns]"
      ]
     },
     "execution_count": 5,
     "metadata": {},
     "output_type": "execute_result"
    }
   ],
   "source": [
    "# Let's see the information in nice pandas format :P\n",
    "df_pv.limit(10).toPandas()"
   ]
  },
  {
   "cell_type": "code",
   "execution_count": 6,
   "metadata": {},
   "outputs": [
    {
     "data": {
      "text/html": [
       "<div>\n",
       "<style scoped>\n",
       "    .dataframe tbody tr th:only-of-type {\n",
       "        vertical-align: middle;\n",
       "    }\n",
       "\n",
       "    .dataframe tbody tr th {\n",
       "        vertical-align: top;\n",
       "    }\n",
       "\n",
       "    .dataframe thead th {\n",
       "        text-align: right;\n",
       "    }\n",
       "</style>\n",
       "<table border=\"1\" class=\"dataframe\">\n",
       "  <thead>\n",
       "    <tr style=\"text-align: right;\">\n",
       "      <th></th>\n",
       "      <th>_c0</th>\n",
       "      <th>Summons_Number</th>\n",
       "      <th>Plate_ID</th>\n",
       "      <th>Registration_State</th>\n",
       "      <th>Plate_Type</th>\n",
       "      <th>Issue_Date</th>\n",
       "      <th>Violation_Code</th>\n",
       "      <th>Vehicle_Body_Type</th>\n",
       "      <th>Vehicle_Make</th>\n",
       "      <th>Issuing_Agency</th>\n",
       "      <th>...</th>\n",
       "      <th>Latitude</th>\n",
       "      <th>Longitude</th>\n",
       "      <th>Community_Board</th>\n",
       "      <th>Community_Council_</th>\n",
       "      <th>Census_Tract</th>\n",
       "      <th>BIN</th>\n",
       "      <th>BBL</th>\n",
       "      <th>NTA</th>\n",
       "      <th>year</th>\n",
       "      <th>month</th>\n",
       "    </tr>\n",
       "  </thead>\n",
       "  <tbody>\n",
       "  </tbody>\n",
       "</table>\n",
       "<p>0 rows × 54 columns</p>\n",
       "</div>"
      ],
      "text/plain": [
       "Empty DataFrame\n",
       "Columns: [_c0, Summons_Number, Plate_ID, Registration_State, Plate_Type, Issue_Date, Violation_Code, Vehicle_Body_Type, Vehicle_Make, Issuing_Agency, Street_Code1, Street_Code2, Street_Code3, Vehicle_Expiration_Date, Violation_Location, Violation_Precinct, Issuer_Precinct, Issuer_Code, Issuer_Command, Issuer_Squad, Violation_Time, Time_First_Observed, Violation_County, Violation_In_Front_Of_Or_Opposite, House_Number, Street_Name, Intersecting_Street, Date_First_Observed, Law_Section, Sub_Division, Violation_Legal_Code, Days_Parking_In_Effect____, From_Hours_In_Effect, To_Hours_In_Effect, Vehicle_Color, Unregistered_Vehicle?, Vehicle_Year, Meter_Number, Feet_From_Curb, Violation_Post_Code, Violation_Description, No_Standing_or_Stopping_Violation, Hydrant_Violation, Double_Parking_Violation, Latitude, Longitude, Community_Board, Community_Council_, Census_Tract, BIN, BBL, NTA, year, month]\n",
       "Index: []\n",
       "\n",
       "[0 rows x 54 columns]"
      ]
     },
     "execution_count": 6,
     "metadata": {},
     "output_type": "execute_result"
    }
   ],
   "source": [
    "df_pv.where(df_pv['Census_Tract'].isNotNull()).limit(5).toPandas()"
   ]
  },
  {
   "cell_type": "code",
   "execution_count": 7,
   "metadata": {},
   "outputs": [
    {
     "data": {
      "text/plain": [
       "11809233"
      ]
     },
     "execution_count": 7,
     "metadata": {},
     "output_type": "execute_result"
    }
   ],
   "source": [
    "df_pv.count()"
   ]
  },
  {
   "cell_type": "code",
   "execution_count": 8,
   "metadata": {},
   "outputs": [
    {
     "data": {
      "text/plain": [
       "11809233"
      ]
     },
     "execution_count": 8,
     "metadata": {},
     "output_type": "execute_result"
    }
   ],
   "source": [
    "# Dropping as much null values as we can\n",
    "df_pv_fixed = df_pv.na.drop(how='all')\n",
    "df_pv_fixed.count()"
   ]
  },
  {
   "cell_type": "code",
   "execution_count": 9,
   "metadata": {},
   "outputs": [
    {
     "data": {
      "text/plain": [
       "0"
      ]
     },
     "execution_count": 9,
     "metadata": {},
     "output_type": "execute_result"
    }
   ],
   "source": [
    "df_pv_fixed2 = df_pv.na.drop(how='any')\n",
    "df_pv_fixed2.count()"
   ]
  },
  {
   "cell_type": "code",
   "execution_count": null,
   "metadata": {},
   "outputs": [],
   "source": [
    "# Let's order de data by an specific field\n",
    "df_pv_ord_vc = df_pv.orderBy('Violation_Code')\n",
    "df_pv_ord_vc.limit(2).toPandas()"
   ]
  },
  {
   "cell_type": "code",
   "execution_count": null,
   "metadata": {},
   "outputs": [],
   "source": [
    "#df_pv_lim = df_pv.select(['Issue_date', 'Violation_Code', 'Vehicle_Make'])\n",
    "df_pv_lim = df_pv.select('Issue_date', 'Violation_Code', 'Vehicle_Make')\n",
    "df_pv_lim"
   ]
  },
  {
   "cell_type": "code",
   "execution_count": null,
   "metadata": {},
   "outputs": [],
   "source": [
    "df_pv_lim2 = df_pv_lim.withColumn(\"Agency\", df_pv_lim.Issuing_Agency + \"x\")\n",
    "#df_pv_lim.withColumn(\"Vendor\", df_pv_lim['Vehicle_Make']).show()"
   ]
  },
  {
   "cell_type": "code",
   "execution_count": null,
   "metadata": {},
   "outputs": [],
   "source": [
    "df_pv_lim2.limit(10).toPandas()"
   ]
  },
  {
   "cell_type": "code",
   "execution_count": null,
   "metadata": {},
   "outputs": [],
   "source": [
    "# Never do this on a project please :( always you will have a better choice\n",
    "df_pv.crossJoin(df_pv).take(5)"
   ]
  },
  {
   "cell_type": "code",
   "execution_count": null,
   "metadata": {},
   "outputs": [],
   "source": []
  }
 ],
 "metadata": {
  "kernelspec": {
   "display_name": "Python 3",
   "language": "python",
   "name": "python3"
  },
  "language_info": {
   "codemirror_mode": {
    "name": "ipython",
    "version": 3
   },
   "file_extension": ".py",
   "mimetype": "text/x-python",
   "name": "python",
   "nbconvert_exporter": "python",
   "pygments_lexer": "ipython3",
   "version": "3.7.7"
  }
 },
 "nbformat": 4,
 "nbformat_minor": 4
}
